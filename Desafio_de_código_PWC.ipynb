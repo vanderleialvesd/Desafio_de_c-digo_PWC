{
  "nbformat": 4,
  "nbformat_minor": 0,
  "metadata": {
    "colab": {
      "provenance": [],
      "authorship_tag": "ABX9TyNe+Flrkma/5hCAsDdchwgI",
      "include_colab_link": true
    },
    "kernelspec": {
      "name": "python3",
      "display_name": "Python 3"
    },
    "language_info": {
      "name": "python"
    }
  },
  "cells": [
    {
      "cell_type": "markdown",
      "metadata": {
        "id": "view-in-github",
        "colab_type": "text"
      },
      "source": [
        "<a href=\"https://colab.research.google.com/github/vanderleialvesd/Desafio_de_c-digo_PWC/blob/main/Desafio_de_c%C3%B3digo_PWC.ipynb\" target=\"_parent\"><img src=\"https://colab.research.google.com/assets/colab-badge.svg\" alt=\"Open In Colab\"/></a>"
      ]
    },
    {
      "cell_type": "code",
      "execution_count": 7,
      "metadata": {
        "id": "TOZcLQc6FlMU"
      },
      "outputs": [],
      "source": [
        "            #--------------------------------------------------------#\n",
        "            #                                                        #\n",
        "            #                 DESAFIO DE CÓDIGO PWC                  #\n",
        "            #     DESENVOLVIDO POR: VANDERLEI ALVES DO NASCIMENTO    #\n",
        "            #                                                        #\n",
        "            #--------------------------------------------------------#"
      ]
    },
    {
      "cell_type": "code",
      "source": [
        "'''   1. Reverta a ordem das palavras nas frases, mantendo a ordem das palavras:\n",
        "            a. Input: \"Hello, World! OpenAI is amazing.\"\n",
        "            b. Output: \"amazing is OpenAI World! Hello,\"                     '''\n",
        "\n",
        "import re\n",
        "\n",
        "str1 = re.findall(r\"[^\\-.?\\s]+\", \"Hello, World! OpenAI is amazing.\")[::-1]\n",
        "\n",
        "print(*str1)"
      ],
      "metadata": {
        "id": "a8mWTo8bGmxE",
        "colab": {
          "base_uri": "https://localhost:8080/"
        },
        "outputId": "e1724768-ff0c-4793-efc4-1d9bcd18fb53"
      },
      "execution_count": 8,
      "outputs": [
        {
          "output_type": "stream",
          "name": "stdout",
          "text": [
            "amazing is OpenAI World! Hello,\n"
          ]
        }
      ]
    },
    {
      "cell_type": "code",
      "source": [
        "'''   2. Remova todos os caracteres duplicados da string abaixo:\n",
        "          a. Input: \" Hello, World! \"\n",
        "          b. Output: \" Helo, Wrd!\"                                           '''\n",
        "\n",
        "\n",
        "str2 = \" Hello, World! Let's go to PWC \"\n",
        "remov_duplic = []\n",
        "\n",
        "for char in str2:\n",
        "    if char not in remov_duplic:\n",
        "        remov_duplic.append(char)\n",
        "\n",
        "output_str2 = ''.join(remov_duplic)\n",
        "\n",
        "print(output_str2)"
      ],
      "metadata": {
        "id": "Cxg6uBreVJPJ",
        "colab": {
          "base_uri": "https://localhost:8080/"
        },
        "outputId": "dcca9e5d-d26b-4685-c667-18442da56c6f"
      },
      "execution_count": 9,
      "outputs": [
        {
          "output_type": "stream",
          "name": "stdout",
          "text": [
            " Helo,Wrd!Lt'sgPC\n"
          ]
        }
      ]
    },
    {
      "cell_type": "code",
      "source": [
        "'''   3.Encontre a substring palindroma mais longa na string abaixo:\n",
        "\n",
        "    String Palindromo definição: Uma palavra é dita palindroma quando possui o\n",
        "    mesmo significa se lida da esquerda para a direita ou da direita para a\n",
        "    esquerda.\n",
        "\n",
        "           a. Input: \"babad\"\n",
        "           b. Output: \"bab\" (Observação: pode haver várias saídas válidas, você\n",
        "           só precisa retornar uma delas)                                    '''\n",
        "\n",
        "def palindroma(s):\n",
        "    start = 0\n",
        "    end = 0\n",
        "\n",
        "    for i in range(len(s)):\n",
        "# Expansão ao redor do centro com tamanho ímpar\n",
        "        left = i\n",
        "        right = i\n",
        "        while left >= 0 and right < len(s) and s[left] == s[right]:\n",
        "            left -= 1\n",
        "            right += 1\n",
        "        if right - left - 1 > end - start:\n",
        "            start = left + 1\n",
        "            end = right - 1\n",
        "\n",
        "# Expansão ao redor do centro com tamanho par\n",
        "        left = i\n",
        "        right = i + 1\n",
        "        while left >= 0 and right < len(s) and s[left] == s[right]:\n",
        "            left -= 1\n",
        "            right += 1\n",
        "        if right - left - 1 > end - start:\n",
        "            start = left + 1\n",
        "            end = right - 1\n",
        "    return s[start:end+1]\n",
        "\n",
        "input_string ='babad'\n",
        "output_string = palindroma(input_string)\n",
        "print(output_string)"
      ],
      "metadata": {
        "id": "jMjMMghtWHel",
        "colab": {
          "base_uri": "https://localhost:8080/"
        },
        "outputId": "6aa57ab0-fa99-4cd8-9e91-611a34986ffb"
      },
      "execution_count": 10,
      "outputs": [
        {
          "output_type": "stream",
          "name": "stdout",
          "text": [
            "aba\n"
          ]
        }
      ]
    },
    {
      "cell_type": "code",
      "source": [
        "'''    4. Coloque em maiúscula a primeira letra de cada frase na string:\n",
        "           a. Input: \"hello, how are you? i'm fine, thank you.\"\n",
        "           b. Output: \"Hello, How are you? I'm fine, thank you.\"             '''\n",
        "\n",
        "def maiuscula(string):\n",
        "# Converte a string para minúsculas\n",
        "    str4 = string.lower()\n",
        "\n",
        "# Lista para armazenar as frases\n",
        "    frases = []\n",
        "\n",
        "# Divisão da string em frases\n",
        "    divid_frase = \"\"\n",
        "    for char in string:\n",
        "        divid_frase += char\n",
        "        if char in \".!?\":\n",
        "            frases.append(divid_frase.strip())\n",
        "            divid_frase = \"\"\n",
        "\n",
        "# Maiuscula primeira letra de cada frase\n",
        "    maiuscula = [frase.capitalize()\n",
        "      for frase in frases]\n",
        "    result = \" \".join(maiuscula)\n",
        "    return result\n",
        "\n",
        "input_string = \"let's go up PWC. hello. how are you? i'm fine, thank you!\"\n",
        "output_string = maiuscula(input_string)\n",
        "print(output_string)"
      ],
      "metadata": {
        "id": "bPEcoe3DYYD2",
        "colab": {
          "base_uri": "https://localhost:8080/"
        },
        "outputId": "1201d5ab-b630-46a5-c202-a246ac4055da"
      },
      "execution_count": 11,
      "outputs": [
        {
          "output_type": "stream",
          "name": "stdout",
          "text": [
            "Let's go up pwc. Hello. How are you? I'm fine, thank you!\n"
          ]
        }
      ]
    },
    {
      "cell_type": "code",
      "source": [
        "'''    5. Verifique se a string é um anagrama de um palíndromo:\n",
        "           a. Input: \"racecar\"\n",
        "           b. Output: \"true\"\n",
        "      (Atenção: Um anagrama de \"racecar\" pode formar uma palíndromo: \"racecar\")\n",
        "\n",
        "    Observação: Para todos os itens você pode presumir que a string de entrada\n",
        "    conterá apenas caracteres alfabéticos, espaços e sinais  de pontuação. A\n",
        "    saída para cada tarefa deve ser retornada como uma string.               '''\n",
        "\n",
        "def anagrama_palindromo(s):\n",
        "# Contar as ocorrências de cada letra na string\n",
        "    letter_count = {}\n",
        "    for letter in s:\n",
        "        if letter in letter_count:\n",
        "            letter_count[letter] += 1\n",
        "        else:\n",
        "            letter_count[letter] = 1\n",
        "\n",
        "# Verificar quantas letras têm um número ímpar de ocorrências\n",
        "    odd_count = 0\n",
        "    for count in letter_count.values():\n",
        "        if count % 2 != 0:\n",
        "            odd_count += 1\n",
        "\n",
        "# Se houver no máximo uma letra com ocorrência ímpar, é um anagrama de palíndromo\n",
        "    if odd_count <= 1:\n",
        "        return True\n",
        "    else:\n",
        "        return False\n",
        "\n",
        "input_str = \"racecar\"\n",
        "anagrama_palindromo_result = anagrama_palindromo(input_str)\n",
        "print(anagrama_palindromo_result)"
      ],
      "metadata": {
        "id": "W8Bt0PLvZcvK",
        "colab": {
          "base_uri": "https://localhost:8080/"
        },
        "outputId": "691f57d5-559a-4664-8cf3-98f36fe74e4e"
      },
      "execution_count": 13,
      "outputs": [
        {
          "output_type": "stream",
          "name": "stdout",
          "text": [
            "True\n"
          ]
        }
      ]
    }
  ]
}